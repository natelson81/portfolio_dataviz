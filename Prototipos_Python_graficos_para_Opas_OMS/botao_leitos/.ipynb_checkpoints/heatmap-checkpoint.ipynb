{
 "cells": [
  {
   "cell_type": "code",
   "execution_count": 1,
   "id": "0e311cc2-5a19-406b-b6a1-49698b0ac6de",
   "metadata": {},
   "outputs": [],
   "source": [
    "import plotly.graph_objects as go\n",
    "import pandas as pd"
   ]
  },
  {
   "cell_type": "code",
   "execution_count": 2,
   "id": "9b532c4e-50d2-4b9d-8379-ac21a7999b1f",
   "metadata": {},
   "outputs": [],
   "source": [
    "df = pd.read_csv('csv/ocup_leitos.csv', sep=\";\")\n",
    "df = df.sort_values('Data', ascending=False).head(378)"
   ]
  },
  {
   "cell_type": "code",
   "execution_count": 3,
   "id": "4a9bc22b-1c3a-4bf4-99b9-d6e716e48d66",
   "metadata": {},
   "outputs": [
    {
     "data": {
      "text/html": [
       "<div>\n",
       "<style scoped>\n",
       "    .dataframe tbody tr th:only-of-type {\n",
       "        vertical-align: middle;\n",
       "    }\n",
       "\n",
       "    .dataframe tbody tr th {\n",
       "        vertical-align: top;\n",
       "    }\n",
       "\n",
       "    .dataframe thead th {\n",
       "        text-align: right;\n",
       "    }\n",
       "</style>\n",
       "<table border=\"1\" class=\"dataframe\">\n",
       "  <thead>\n",
       "    <tr style=\"text-align: right;\">\n",
       "      <th></th>\n",
       "      <th>Regiao</th>\n",
       "      <th>Estado</th>\n",
       "      <th>Data</th>\n",
       "      <th>% de ocupação de UTI</th>\n",
       "    </tr>\n",
       "  </thead>\n",
       "  <tbody>\n",
       "    <tr>\n",
       "      <th>593</th>\n",
       "      <td>Sul</td>\n",
       "      <td>Santa Catarina</td>\n",
       "      <td>2021-07-29</td>\n",
       "      <td>64</td>\n",
       "    </tr>\n",
       "    <tr>\n",
       "      <th>175</th>\n",
       "      <td>Nordeste</td>\n",
       "      <td>Rio Grande do Norte</td>\n",
       "      <td>2021-07-29</td>\n",
       "      <td>41</td>\n",
       "    </tr>\n",
       "    <tr>\n",
       "      <th>351</th>\n",
       "      <td>Norte</td>\n",
       "      <td>Tocantins</td>\n",
       "      <td>2021-07-29</td>\n",
       "      <td>75</td>\n",
       "    </tr>\n",
       "    <tr>\n",
       "      <th>219</th>\n",
       "      <td>Norte</td>\n",
       "      <td>Acre</td>\n",
       "      <td>2021-07-29</td>\n",
       "      <td>23</td>\n",
       "    </tr>\n",
       "    <tr>\n",
       "      <th>549</th>\n",
       "      <td>Sul</td>\n",
       "      <td>Paraná</td>\n",
       "      <td>2021-07-29</td>\n",
       "      <td>59</td>\n",
       "    </tr>\n",
       "  </tbody>\n",
       "</table>\n",
       "</div>"
      ],
      "text/plain": [
       "       Regiao               Estado        Data  % de ocupação de UTI\n",
       "593       Sul       Santa Catarina  2021-07-29                    64\n",
       "175  Nordeste  Rio Grande do Norte  2021-07-29                    41\n",
       "351     Norte            Tocantins  2021-07-29                    75\n",
       "219     Norte                 Acre  2021-07-29                    23\n",
       "549       Sul               Paraná  2021-07-29                    59"
      ]
     },
     "execution_count": 3,
     "metadata": {},
     "output_type": "execute_result"
    }
   ],
   "source": [
    "df.head()"
   ]
  },
  {
   "cell_type": "code",
   "execution_count": 4,
   "id": "4a0316c8-5d56-4f27-aa3e-6e74e63b2659",
   "metadata": {},
   "outputs": [
    {
     "data": {
      "text/plain": [
       "(378, 4)"
      ]
     },
     "execution_count": 4,
     "metadata": {},
     "output_type": "execute_result"
    }
   ],
   "source": [
    "df.shape"
   ]
  },
  {
   "cell_type": "markdown",
   "id": "321de45e-0e43-48d6-a277-f5ae140a4f55",
   "metadata": {},
   "source": [
    "#### HEATMAP DE OCUPAÇÃO % DOS LEITOS"
   ]
  },
  {
   "cell_type": "code",
   "execution_count": 16,
   "id": "24c7ff99-ff97-4129-a762-dfbe0e0f3103",
   "metadata": {},
   "outputs": [
    {
     "data": {
      "application/vnd.plotly.v1+json": {
       "config": {
        "plotlyServerURL": "https://plot.ly"
       },
       "data": [
        {
         "colorscale": [
          [
           0,
           "#DAF7A6"
          ],
          [
           0.3,
           "#FFC300"
          ],
          [
           0.6,
           "#FF5733"
          ],
          [
           0.75,
           "#C70039"
          ],
          [
           1,
           "#900C3F"
          ]
         ],
         "hoverongaps": false,
         "hovertemplate": "Data: %{x}<br>UF: %{y}<br>%: %{z}<extra></extra>",
         "opacity": 0.8,
         "type": "heatmap",
         "x": [
          "2021-07-29",
          "2021-07-29",
          "2021-07-29",
          "2021-07-29",
          "2021-07-29",
          "2021-07-29",
          "2021-07-29",
          "2021-07-29",
          "2021-07-29",
          "2021-07-29",
          "2021-07-29",
          "2021-07-29",
          "2021-07-29",
          "2021-07-29",
          "2021-07-29",
          "2021-07-29",
          "2021-07-29",
          "2021-07-29",
          "2021-07-29",
          "2021-07-29",
          "2021-07-29",
          "2021-07-29",
          "2021-07-29",
          "2021-07-29",
          "2021-07-29",
          "2021-07-29",
          "2021-07-29",
          "2021-07-28",
          "2021-07-28",
          "2021-07-28",
          "2021-07-28",
          "2021-07-28",
          "2021-07-28",
          "2021-07-28",
          "2021-07-28",
          "2021-07-28",
          "2021-07-28",
          "2021-07-28",
          "2021-07-28",
          "2021-07-28",
          "2021-07-28",
          "2021-07-28",
          "2021-07-28",
          "2021-07-28",
          "2021-07-28",
          "2021-07-28",
          "2021-07-28",
          "2021-07-28",
          "2021-07-28",
          "2021-07-28",
          "2021-07-28",
          "2021-07-28",
          "2021-07-28",
          "2021-07-28",
          "2021-07-27",
          "2021-07-27",
          "2021-07-27",
          "2021-07-27",
          "2021-07-27",
          "2021-07-27",
          "2021-07-27",
          "2021-07-27",
          "2021-07-27",
          "2021-07-27",
          "2021-07-27",
          "2021-07-27",
          "2021-07-27",
          "2021-07-27",
          "2021-07-27",
          "2021-07-27",
          "2021-07-27",
          "2021-07-27",
          "2021-07-27",
          "2021-07-27",
          "2021-07-27",
          "2021-07-27",
          "2021-07-27",
          "2021-07-27",
          "2021-07-27",
          "2021-07-27",
          "2021-07-27",
          "2021-07-26",
          "2021-07-26",
          "2021-07-26",
          "2021-07-26",
          "2021-07-26",
          "2021-07-26",
          "2021-07-26",
          "2021-07-26",
          "2021-07-26",
          "2021-07-26",
          "2021-07-26",
          "2021-07-26",
          "2021-07-26",
          "2021-07-26",
          "2021-07-26",
          "2021-07-26",
          "2021-07-26",
          "2021-07-26",
          "2021-07-26",
          "2021-07-26",
          "2021-07-26",
          "2021-07-26",
          "2021-07-26",
          "2021-07-26",
          "2021-07-26",
          "2021-07-26",
          "2021-07-26",
          "2021-07-25",
          "2021-07-25",
          "2021-07-25",
          "2021-07-25",
          "2021-07-25",
          "2021-07-25",
          "2021-07-25",
          "2021-07-25",
          "2021-07-25",
          "2021-07-25",
          "2021-07-25",
          "2021-07-25",
          "2021-07-25",
          "2021-07-25",
          "2021-07-25",
          "2021-07-25",
          "2021-07-25",
          "2021-07-25",
          "2021-07-25",
          "2021-07-25",
          "2021-07-25",
          "2021-07-25",
          "2021-07-25",
          "2021-07-25",
          "2021-07-25",
          "2021-07-25",
          "2021-07-25",
          "2021-07-24",
          "2021-07-24",
          "2021-07-24",
          "2021-07-24",
          "2021-07-24",
          "2021-07-24",
          "2021-07-24",
          "2021-07-24",
          "2021-07-24",
          "2021-07-24",
          "2021-07-24",
          "2021-07-24",
          "2021-07-24",
          "2021-07-24",
          "2021-07-24",
          "2021-07-24",
          "2021-07-24",
          "2021-07-24",
          "2021-07-24",
          "2021-07-24",
          "2021-07-24",
          "2021-07-24",
          "2021-07-24",
          "2021-07-24",
          "2021-07-24",
          "2021-07-24",
          "2021-07-24",
          "2021-07-23",
          "2021-07-23",
          "2021-07-23",
          "2021-07-23",
          "2021-07-23",
          "2021-07-23",
          "2021-07-23",
          "2021-07-23",
          "2021-07-23",
          "2021-07-23",
          "2021-07-23",
          "2021-07-23",
          "2021-07-23",
          "2021-07-23",
          "2021-07-23",
          "2021-07-23",
          "2021-07-23",
          "2021-07-23",
          "2021-07-23",
          "2021-07-23",
          "2021-07-23",
          "2021-07-23",
          "2021-07-23",
          "2021-07-23",
          "2021-07-23",
          "2021-07-23",
          "2021-07-23",
          "2021-07-22",
          "2021-07-22",
          "2021-07-22",
          "2021-07-22",
          "2021-07-22",
          "2021-07-22",
          "2021-07-22",
          "2021-07-22",
          "2021-07-22",
          "2021-07-22",
          "2021-07-22",
          "2021-07-22",
          "2021-07-22",
          "2021-07-22",
          "2021-07-22",
          "2021-07-22",
          "2021-07-22",
          "2021-07-22",
          "2021-07-22",
          "2021-07-22",
          "2021-07-22",
          "2021-07-22",
          "2021-07-22",
          "2021-07-22",
          "2021-07-22",
          "2021-07-22",
          "2021-07-22",
          "2021-07-21",
          "2021-07-21",
          "2021-07-21",
          "2021-07-21",
          "2021-07-21",
          "2021-07-21",
          "2021-07-21",
          "2021-07-21",
          "2021-07-21",
          "2021-07-21",
          "2021-07-21",
          "2021-07-21",
          "2021-07-21",
          "2021-07-21",
          "2021-07-21",
          "2021-07-21",
          "2021-07-21",
          "2021-07-21",
          "2021-07-21",
          "2021-07-21",
          "2021-07-21",
          "2021-07-21",
          "2021-07-21",
          "2021-07-21",
          "2021-07-21",
          "2021-07-21",
          "2021-07-21",
          "2021-07-20",
          "2021-07-20",
          "2021-07-20",
          "2021-07-20",
          "2021-07-20",
          "2021-07-20",
          "2021-07-20",
          "2021-07-20",
          "2021-07-20",
          "2021-07-20",
          "2021-07-20",
          "2021-07-20",
          "2021-07-20",
          "2021-07-20",
          "2021-07-20",
          "2021-07-20",
          "2021-07-20",
          "2021-07-20",
          "2021-07-20",
          "2021-07-20",
          "2021-07-20",
          "2021-07-20",
          "2021-07-20",
          "2021-07-20",
          "2021-07-20",
          "2021-07-20",
          "2021-07-20",
          "2021-07-19",
          "2021-07-19",
          "2021-07-19",
          "2021-07-19",
          "2021-07-19",
          "2021-07-19",
          "2021-07-19",
          "2021-07-19",
          "2021-07-19",
          "2021-07-19",
          "2021-07-19",
          "2021-07-19",
          "2021-07-19",
          "2021-07-19",
          "2021-07-19",
          "2021-07-19",
          "2021-07-19",
          "2021-07-19",
          "2021-07-19",
          "2021-07-19",
          "2021-07-19",
          "2021-07-19",
          "2021-07-19",
          "2021-07-19",
          "2021-07-19",
          "2021-07-19",
          "2021-07-19",
          "2021-07-18",
          "2021-07-18",
          "2021-07-18",
          "2021-07-18",
          "2021-07-18",
          "2021-07-18",
          "2021-07-18",
          "2021-07-18",
          "2021-07-18",
          "2021-07-18",
          "2021-07-18",
          "2021-07-18",
          "2021-07-18",
          "2021-07-18",
          "2021-07-18",
          "2021-07-18",
          "2021-07-18",
          "2021-07-18",
          "2021-07-18",
          "2021-07-18",
          "2021-07-18",
          "2021-07-18",
          "2021-07-18",
          "2021-07-18",
          "2021-07-18",
          "2021-07-18",
          "2021-07-18",
          "2021-07-17",
          "2021-07-17",
          "2021-07-17",
          "2021-07-17",
          "2021-07-17",
          "2021-07-17",
          "2021-07-17",
          "2021-07-17",
          "2021-07-17",
          "2021-07-17",
          "2021-07-17",
          "2021-07-17",
          "2021-07-17",
          "2021-07-17",
          "2021-07-17",
          "2021-07-17",
          "2021-07-17",
          "2021-07-17",
          "2021-07-17",
          "2021-07-17",
          "2021-07-17",
          "2021-07-17",
          "2021-07-17",
          "2021-07-17",
          "2021-07-17",
          "2021-07-17",
          "2021-07-17",
          "2021-07-16",
          "2021-07-16",
          "2021-07-16",
          "2021-07-16",
          "2021-07-16",
          "2021-07-16",
          "2021-07-16",
          "2021-07-16",
          "2021-07-16",
          "2021-07-16",
          "2021-07-16",
          "2021-07-16",
          "2021-07-16",
          "2021-07-16",
          "2021-07-16",
          "2021-07-16",
          "2021-07-16",
          "2021-07-16",
          "2021-07-16",
          "2021-07-16",
          "2021-07-16",
          "2021-07-16",
          "2021-07-16",
          "2021-07-16",
          "2021-07-16",
          "2021-07-16",
          "2021-07-16"
         ],
         "y": [
          "Santa Catarina",
          "Rio Grande do Norte",
          "Tocantins",
          "Acre",
          "Paraná",
          "Espírito Santo",
          "Bahia",
          "Sergipe",
          "Minas Gerais",
          "Mato Grosso",
          "Ceará",
          "Alagoas",
          "Rio de Janeiro",
          "Piauí",
          "Mato Grosso do Sul",
          " São Paulo",
          "Pernambuco",
          "Maranhão",
          "Distrito Federal",
          "Paraíba",
          "Rio Grande do Sul",
          "Goiás",
          "Amapá",
          "Roraima",
          "Pará",
          "Amazonas",
          "Rondônia",
          "Rio de Janeiro",
          "Rondônia",
          "Piauí",
          "Rio Grande do Sul",
          "Rio Grande do Norte",
          "Amapá",
          "Bahia",
          "Mato Grosso",
          "Minas Gerais",
          " São Paulo",
          "Mato Grosso do Sul",
          "Goiás",
          "Sergipe",
          "Ceará",
          "Pernambuco",
          "Alagoas",
          "Paraná",
          "Roraima",
          "Espírito Santo",
          "Amazonas",
          "Paraíba",
          "Maranhão",
          "Pará",
          "Santa Catarina",
          "Acre",
          "Distrito Federal",
          "Tocantins",
          "Piauí",
          "Goiás",
          "Paraíba",
          "Santa Catarina",
          "Pernambuco",
          "Mato Grosso",
          " São Paulo",
          "Rondônia",
          "Maranhão",
          "Distrito Federal",
          "Mato Grosso do Sul",
          "Pará",
          "Sergipe",
          "Ceará",
          "Tocantins",
          "Espírito Santo",
          "Alagoas",
          "Rio de Janeiro",
          "Bahia",
          "Roraima",
          "Paraná",
          "Acre",
          "Amazonas",
          "Minas Gerais",
          "Amapá",
          "Rio Grande do Norte",
          "Rio Grande do Sul",
          "Acre",
          "Tocantins",
          "Paraíba",
          "Goiás",
          "Amazonas",
          "Pernambuco",
          "Espírito Santo",
          "Distrito Federal",
          "Rondônia",
          "Roraima",
          "Sergipe",
          "Minas Gerais",
          "Amapá",
          "Piauí",
          "Rio de Janeiro",
          "Rio Grande do Norte",
          " São Paulo",
          "Pará",
          "Santa Catarina",
          "Bahia",
          "Maranhão",
          "Mato Grosso do Sul",
          "Alagoas",
          "Rio Grande do Sul",
          "Mato Grosso",
          "Ceará",
          "Paraná",
          "Tocantins",
          "Rio Grande do Norte",
          "Roraima",
          " São Paulo",
          "Alagoas",
          "Paraná",
          "Sergipe",
          "Espírito Santo",
          "Mato Grosso",
          "Minas Gerais",
          "Rio Grande do Sul",
          "Amazonas",
          "Acre",
          "Pernambuco",
          "Ceará",
          "Rio de Janeiro",
          "Amapá",
          "Piauí",
          "Bahia",
          "Mato Grosso do Sul",
          "Pará",
          "Maranhão",
          "Santa Catarina",
          "Distrito Federal",
          "Goiás",
          "Paraíba",
          "Rondônia",
          "Amazonas",
          "Rio Grande do Sul",
          "Goiás",
          "Ceará",
          "Rio de Janeiro",
          "Rio Grande do Norte",
          "Mato Grosso",
          "Tocantins",
          "Acre",
          "Paraíba",
          "Minas Gerais",
          "Espírito Santo",
          "Sergipe",
          "Paraná",
          "Pará",
          "Bahia",
          "Rondônia",
          "Pernambuco",
          "Mato Grosso do Sul",
          "Alagoas",
          "Amapá",
          "Roraima",
          "Santa Catarina",
          " São Paulo",
          "Distrito Federal",
          "Piauí",
          "Maranhão",
          "Santa Catarina",
          "Paraná",
          "Maranhão",
          "Pará",
          " São Paulo",
          "Sergipe",
          "Paraíba",
          "Distrito Federal",
          "Espírito Santo",
          "Bahia",
          "Minas Gerais",
          "Amapá",
          "Acre",
          "Mato Grosso",
          "Rio Grande do Norte",
          "Mato Grosso do Sul",
          "Rondônia",
          "Piauí",
          "Goiás",
          "Alagoas",
          "Pernambuco",
          "Rio de Janeiro",
          "Amazonas",
          "Roraima",
          "Rio Grande do Sul",
          "Ceará",
          "Tocantins",
          "Espírito Santo",
          "Amazonas",
          "Tocantins",
          "Acre",
          "Alagoas",
          "Amapá",
          "Roraima",
          "Santa Catarina",
          "Bahia",
          "Rondônia",
          "Rio Grande do Sul",
          "Pará",
          "Sergipe",
          "Rio de Janeiro",
          "Pernambuco",
          "Goiás",
          "Piauí",
          "Mato Grosso",
          " São Paulo",
          "Rio Grande do Norte",
          "Distrito Federal",
          "Ceará",
          "Paraíba",
          "Maranhão",
          "Mato Grosso do Sul",
          "Minas Gerais",
          "Paraná",
          "Paraná",
          "Maranhão",
          "Minas Gerais",
          "Mato Grosso",
          "Amapá",
          "Piauí",
          "Rondônia",
          "Sergipe",
          " São Paulo",
          "Distrito Federal",
          "Pará",
          "Goiás",
          "Rio Grande do Norte",
          "Amazonas",
          "Espírito Santo",
          "Tocantins",
          "Rio Grande do Sul",
          "Paraíba",
          "Bahia",
          "Santa Catarina",
          "Acre",
          "Pernambuco",
          "Mato Grosso do Sul",
          "Rio de Janeiro",
          "Roraima",
          "Alagoas",
          "Ceará",
          "Rondônia",
          "Pernambuco",
          "Alagoas",
          "Distrito Federal",
          "Santa Catarina",
          "Amapá",
          "Roraima",
          "Rio Grande do Norte",
          "Goiás",
          "Maranhão",
          "Rio Grande do Sul",
          "Mato Grosso do Sul",
          "Sergipe",
          "Acre",
          "Paraná",
          "Paraíba",
          "Bahia",
          "Espírito Santo",
          "Rio de Janeiro",
          "Pará",
          "Ceará",
          "Tocantins",
          "Amazonas",
          " São Paulo",
          "Minas Gerais",
          "Piauí",
          "Mato Grosso",
          "Minas Gerais",
          "Tocantins",
          "Goiás",
          "Santa Catarina",
          "Roraima",
          "Distrito Federal",
          "Mato Grosso",
          " São Paulo",
          "Espírito Santo",
          "Rio Grande do Sul",
          "Rio de Janeiro",
          "Paraná",
          "Mato Grosso do Sul",
          "Rondônia",
          "Pará",
          "Rio Grande do Norte",
          "Sergipe",
          "Paraíba",
          "Acre",
          "Pernambuco",
          "Maranhão",
          "Amazonas",
          "Amapá",
          "Bahia",
          "Piauí",
          "Ceará",
          "Alagoas",
          "Rondônia",
          "Roraima",
          "Amapá",
          "Rio de Janeiro",
          "Paraná",
          "Ceará",
          "Minas Gerais",
          "Pará",
          "Amazonas",
          "Mato Grosso",
          "Distrito Federal",
          "Maranhão",
          "Alagoas",
          "Pernambuco",
          "Mato Grosso do Sul",
          "Espírito Santo",
          "Acre",
          "Sergipe",
          "Paraíba",
          "Goiás",
          "Santa Catarina",
          "Tocantins",
          "Rio Grande do Sul",
          "Rio Grande do Norte",
          "Bahia",
          " São Paulo",
          "Piauí",
          "Amazonas",
          "Mato Grosso",
          "Distrito Federal",
          "Maranhão",
          "Alagoas",
          "Rondônia",
          "Roraima",
          "Rio Grande do Sul",
          "Espírito Santo",
          "Rio Grande do Norte",
          "Acre",
          "Sergipe",
          "Paraíba",
          " São Paulo",
          "Pará",
          "Goiás",
          "Pernambuco",
          "Mato Grosso do Sul",
          "Bahia",
          "Minas Gerais",
          "Amapá",
          "Paraná",
          "Ceará",
          "Piauí",
          "Rio de Janeiro",
          "Tocantins",
          "Santa Catarina",
          "Goiás",
          "Amapá",
          " São Paulo",
          "Alagoas",
          "Pará",
          "Rio de Janeiro",
          "Paraíba",
          "Rio Grande do Norte",
          "Ceará",
          "Acre",
          "Pernambuco",
          "Minas Gerais",
          "Santa Catarina",
          "Maranhão",
          "Sergipe",
          "Rio Grande do Sul",
          "Amazonas",
          "Distrito Federal",
          "Tocantins",
          "Mato Grosso",
          "Roraima",
          "Bahia",
          "Rondônia",
          "Piauí",
          "Paraná",
          "Espírito Santo",
          "Mato Grosso do Sul"
         ],
         "z": [
          64,
          41,
          75,
          23,
          59,
          47,
          51,
          39,
          54,
          81,
          46,
          35,
          57,
          57,
          66,
          52,
          47,
          60,
          85,
          30,
          64,
          81,
          31,
          62,
          54,
          51,
          54,
          58,
          55,
          51,
          65,
          42,
          32,
          53,
          74,
          55,
          53,
          65,
          84,
          39,
          47,
          49,
          35,
          60,
          68,
          49,
          50,
          31,
          63,
          57,
          65,
          21,
          80,
          71,
          52,
          85,
          32,
          64,
          49,
          76,
          54,
          55,
          70,
          88,
          68,
          61,
          41,
          48,
          72,
          51,
          45,
          58,
          52,
          68,
          63,
          20,
          52,
          54,
          32,
          42,
          66,
          17,
          69,
          34,
          85,
          52,
          49,
          50,
          90,
          55,
          68,
          45,
          56,
          34,
          57,
          59,
          41,
          55,
          61,
          65,
          53,
          65,
          61,
          45,
          68,
          63,
          50,
          64,
          72,
          44,
          72,
          56,
          44,
          63,
          46,
          50,
          70,
          56,
          66,
          55,
          19,
          49,
          58,
          59,
          36,
          51,
          54,
          67,
          62,
          62,
          66,
          88,
          83,
          34,
          59,
          54,
          69,
          83,
          49,
          58,
          49,
          70,
          71,
          12,
          34,
          57,
          50,
          48,
          65,
          59,
          56,
          57,
          52,
          69,
          44,
          38,
          69,
          71,
          58,
          94,
          53,
          58,
          71,
          62,
          58,
          59,
          58,
          48,
          34,
          94,
          50,
          56,
          57,
          38,
          12,
          70,
          49,
          69,
          57,
          53,
          83,
          45,
          52,
          58,
          54,
          69,
          69,
          49,
          71,
          50,
          54,
          71,
          14,
          44,
          39,
          70,
          72,
          56,
          57,
          69,
          58,
          55,
          59,
          55,
          81,
          53,
          72,
          59,
          50,
          93,
          49,
          34,
          60,
          63,
          58,
          66,
          68,
          62,
          58,
          66,
          47,
          51,
          57,
          51,
          60,
          91,
          60,
          86,
          50,
          56,
          51,
          70,
          71,
          34,
          57,
          73,
          13,
          55,
          65,
          58,
          65,
          49,
          48,
          60,
          58,
          53,
          93,
          75,
          47,
          68,
          49,
          84,
          64,
          71,
          63,
          43,
          13,
          72,
          34,
          57,
          52,
          60,
          58,
          50,
          73,
          56,
          61,
          59,
          53,
          72,
          60,
          75,
          82,
          79,
          66,
          93,
          70,
          62,
          54,
          73,
          60,
          72,
          67,
          63,
          60,
          48,
          45,
          34,
          17,
          58,
          65,
          61,
          47,
          60,
          54,
          52,
          54,
          64,
          65,
          47,
          58,
          72,
          61,
          59,
          63,
          62,
          69,
          94,
          60,
          56,
          61,
          66,
          51,
          18,
          47,
          34,
          80,
          84,
          71,
          73,
          49,
          58,
          63,
          53,
          58,
          76,
          90,
          53,
          56,
          64,
          66,
          73,
          52,
          51,
          20,
          48,
          34,
          63,
          62,
          80,
          61,
          68,
          58,
          59,
          47,
          74,
          60,
          54,
          59,
          75,
          84,
          80,
          47,
          64,
          58,
          57,
          60,
          35,
          53,
          59,
          22,
          62,
          58,
          78,
          64,
          51,
          75,
          59,
          89,
          78,
          72,
          72,
          57,
          66,
          52,
          75,
          52,
          68
         ],
         "zmax": 100,
         "zmin": 0
        }
       ],
       "layout": {
        "height": 600,
        "template": {
         "data": {
          "bar": [
           {
            "error_x": {
             "color": "#2a3f5f"
            },
            "error_y": {
             "color": "#2a3f5f"
            },
            "marker": {
             "line": {
              "color": "#E5ECF6",
              "width": 0.5
             },
             "pattern": {
              "fillmode": "overlay",
              "size": 10,
              "solidity": 0.2
             }
            },
            "type": "bar"
           }
          ],
          "barpolar": [
           {
            "marker": {
             "line": {
              "color": "#E5ECF6",
              "width": 0.5
             },
             "pattern": {
              "fillmode": "overlay",
              "size": 10,
              "solidity": 0.2
             }
            },
            "type": "barpolar"
           }
          ],
          "carpet": [
           {
            "aaxis": {
             "endlinecolor": "#2a3f5f",
             "gridcolor": "white",
             "linecolor": "white",
             "minorgridcolor": "white",
             "startlinecolor": "#2a3f5f"
            },
            "baxis": {
             "endlinecolor": "#2a3f5f",
             "gridcolor": "white",
             "linecolor": "white",
             "minorgridcolor": "white",
             "startlinecolor": "#2a3f5f"
            },
            "type": "carpet"
           }
          ],
          "choropleth": [
           {
            "colorbar": {
             "outlinewidth": 0,
             "ticks": ""
            },
            "type": "choropleth"
           }
          ],
          "contour": [
           {
            "colorbar": {
             "outlinewidth": 0,
             "ticks": ""
            },
            "colorscale": [
             [
              0,
              "#0d0887"
             ],
             [
              0.1111111111111111,
              "#46039f"
             ],
             [
              0.2222222222222222,
              "#7201a8"
             ],
             [
              0.3333333333333333,
              "#9c179e"
             ],
             [
              0.4444444444444444,
              "#bd3786"
             ],
             [
              0.5555555555555556,
              "#d8576b"
             ],
             [
              0.6666666666666666,
              "#ed7953"
             ],
             [
              0.7777777777777778,
              "#fb9f3a"
             ],
             [
              0.8888888888888888,
              "#fdca26"
             ],
             [
              1,
              "#f0f921"
             ]
            ],
            "type": "contour"
           }
          ],
          "contourcarpet": [
           {
            "colorbar": {
             "outlinewidth": 0,
             "ticks": ""
            },
            "type": "contourcarpet"
           }
          ],
          "heatmap": [
           {
            "colorbar": {
             "outlinewidth": 0,
             "ticks": ""
            },
            "colorscale": [
             [
              0,
              "#0d0887"
             ],
             [
              0.1111111111111111,
              "#46039f"
             ],
             [
              0.2222222222222222,
              "#7201a8"
             ],
             [
              0.3333333333333333,
              "#9c179e"
             ],
             [
              0.4444444444444444,
              "#bd3786"
             ],
             [
              0.5555555555555556,
              "#d8576b"
             ],
             [
              0.6666666666666666,
              "#ed7953"
             ],
             [
              0.7777777777777778,
              "#fb9f3a"
             ],
             [
              0.8888888888888888,
              "#fdca26"
             ],
             [
              1,
              "#f0f921"
             ]
            ],
            "type": "heatmap"
           }
          ],
          "heatmapgl": [
           {
            "colorbar": {
             "outlinewidth": 0,
             "ticks": ""
            },
            "colorscale": [
             [
              0,
              "#0d0887"
             ],
             [
              0.1111111111111111,
              "#46039f"
             ],
             [
              0.2222222222222222,
              "#7201a8"
             ],
             [
              0.3333333333333333,
              "#9c179e"
             ],
             [
              0.4444444444444444,
              "#bd3786"
             ],
             [
              0.5555555555555556,
              "#d8576b"
             ],
             [
              0.6666666666666666,
              "#ed7953"
             ],
             [
              0.7777777777777778,
              "#fb9f3a"
             ],
             [
              0.8888888888888888,
              "#fdca26"
             ],
             [
              1,
              "#f0f921"
             ]
            ],
            "type": "heatmapgl"
           }
          ],
          "histogram": [
           {
            "marker": {
             "pattern": {
              "fillmode": "overlay",
              "size": 10,
              "solidity": 0.2
             }
            },
            "type": "histogram"
           }
          ],
          "histogram2d": [
           {
            "colorbar": {
             "outlinewidth": 0,
             "ticks": ""
            },
            "colorscale": [
             [
              0,
              "#0d0887"
             ],
             [
              0.1111111111111111,
              "#46039f"
             ],
             [
              0.2222222222222222,
              "#7201a8"
             ],
             [
              0.3333333333333333,
              "#9c179e"
             ],
             [
              0.4444444444444444,
              "#bd3786"
             ],
             [
              0.5555555555555556,
              "#d8576b"
             ],
             [
              0.6666666666666666,
              "#ed7953"
             ],
             [
              0.7777777777777778,
              "#fb9f3a"
             ],
             [
              0.8888888888888888,
              "#fdca26"
             ],
             [
              1,
              "#f0f921"
             ]
            ],
            "type": "histogram2d"
           }
          ],
          "histogram2dcontour": [
           {
            "colorbar": {
             "outlinewidth": 0,
             "ticks": ""
            },
            "colorscale": [
             [
              0,
              "#0d0887"
             ],
             [
              0.1111111111111111,
              "#46039f"
             ],
             [
              0.2222222222222222,
              "#7201a8"
             ],
             [
              0.3333333333333333,
              "#9c179e"
             ],
             [
              0.4444444444444444,
              "#bd3786"
             ],
             [
              0.5555555555555556,
              "#d8576b"
             ],
             [
              0.6666666666666666,
              "#ed7953"
             ],
             [
              0.7777777777777778,
              "#fb9f3a"
             ],
             [
              0.8888888888888888,
              "#fdca26"
             ],
             [
              1,
              "#f0f921"
             ]
            ],
            "type": "histogram2dcontour"
           }
          ],
          "mesh3d": [
           {
            "colorbar": {
             "outlinewidth": 0,
             "ticks": ""
            },
            "type": "mesh3d"
           }
          ],
          "parcoords": [
           {
            "line": {
             "colorbar": {
              "outlinewidth": 0,
              "ticks": ""
             }
            },
            "type": "parcoords"
           }
          ],
          "pie": [
           {
            "automargin": true,
            "type": "pie"
           }
          ],
          "scatter": [
           {
            "marker": {
             "colorbar": {
              "outlinewidth": 0,
              "ticks": ""
             }
            },
            "type": "scatter"
           }
          ],
          "scatter3d": [
           {
            "line": {
             "colorbar": {
              "outlinewidth": 0,
              "ticks": ""
             }
            },
            "marker": {
             "colorbar": {
              "outlinewidth": 0,
              "ticks": ""
             }
            },
            "type": "scatter3d"
           }
          ],
          "scattercarpet": [
           {
            "marker": {
             "colorbar": {
              "outlinewidth": 0,
              "ticks": ""
             }
            },
            "type": "scattercarpet"
           }
          ],
          "scattergeo": [
           {
            "marker": {
             "colorbar": {
              "outlinewidth": 0,
              "ticks": ""
             }
            },
            "type": "scattergeo"
           }
          ],
          "scattergl": [
           {
            "marker": {
             "colorbar": {
              "outlinewidth": 0,
              "ticks": ""
             }
            },
            "type": "scattergl"
           }
          ],
          "scattermapbox": [
           {
            "marker": {
             "colorbar": {
              "outlinewidth": 0,
              "ticks": ""
             }
            },
            "type": "scattermapbox"
           }
          ],
          "scatterpolar": [
           {
            "marker": {
             "colorbar": {
              "outlinewidth": 0,
              "ticks": ""
             }
            },
            "type": "scatterpolar"
           }
          ],
          "scatterpolargl": [
           {
            "marker": {
             "colorbar": {
              "outlinewidth": 0,
              "ticks": ""
             }
            },
            "type": "scatterpolargl"
           }
          ],
          "scatterternary": [
           {
            "marker": {
             "colorbar": {
              "outlinewidth": 0,
              "ticks": ""
             }
            },
            "type": "scatterternary"
           }
          ],
          "surface": [
           {
            "colorbar": {
             "outlinewidth": 0,
             "ticks": ""
            },
            "colorscale": [
             [
              0,
              "#0d0887"
             ],
             [
              0.1111111111111111,
              "#46039f"
             ],
             [
              0.2222222222222222,
              "#7201a8"
             ],
             [
              0.3333333333333333,
              "#9c179e"
             ],
             [
              0.4444444444444444,
              "#bd3786"
             ],
             [
              0.5555555555555556,
              "#d8576b"
             ],
             [
              0.6666666666666666,
              "#ed7953"
             ],
             [
              0.7777777777777778,
              "#fb9f3a"
             ],
             [
              0.8888888888888888,
              "#fdca26"
             ],
             [
              1,
              "#f0f921"
             ]
            ],
            "type": "surface"
           }
          ],
          "table": [
           {
            "cells": {
             "fill": {
              "color": "#EBF0F8"
             },
             "line": {
              "color": "white"
             }
            },
            "header": {
             "fill": {
              "color": "#C8D4E3"
             },
             "line": {
              "color": "white"
             }
            },
            "type": "table"
           }
          ]
         },
         "layout": {
          "annotationdefaults": {
           "arrowcolor": "#2a3f5f",
           "arrowhead": 0,
           "arrowwidth": 1
          },
          "autotypenumbers": "strict",
          "coloraxis": {
           "colorbar": {
            "outlinewidth": 0,
            "ticks": ""
           }
          },
          "colorscale": {
           "diverging": [
            [
             0,
             "#8e0152"
            ],
            [
             0.1,
             "#c51b7d"
            ],
            [
             0.2,
             "#de77ae"
            ],
            [
             0.3,
             "#f1b6da"
            ],
            [
             0.4,
             "#fde0ef"
            ],
            [
             0.5,
             "#f7f7f7"
            ],
            [
             0.6,
             "#e6f5d0"
            ],
            [
             0.7,
             "#b8e186"
            ],
            [
             0.8,
             "#7fbc41"
            ],
            [
             0.9,
             "#4d9221"
            ],
            [
             1,
             "#276419"
            ]
           ],
           "sequential": [
            [
             0,
             "#0d0887"
            ],
            [
             0.1111111111111111,
             "#46039f"
            ],
            [
             0.2222222222222222,
             "#7201a8"
            ],
            [
             0.3333333333333333,
             "#9c179e"
            ],
            [
             0.4444444444444444,
             "#bd3786"
            ],
            [
             0.5555555555555556,
             "#d8576b"
            ],
            [
             0.6666666666666666,
             "#ed7953"
            ],
            [
             0.7777777777777778,
             "#fb9f3a"
            ],
            [
             0.8888888888888888,
             "#fdca26"
            ],
            [
             1,
             "#f0f921"
            ]
           ],
           "sequentialminus": [
            [
             0,
             "#0d0887"
            ],
            [
             0.1111111111111111,
             "#46039f"
            ],
            [
             0.2222222222222222,
             "#7201a8"
            ],
            [
             0.3333333333333333,
             "#9c179e"
            ],
            [
             0.4444444444444444,
             "#bd3786"
            ],
            [
             0.5555555555555556,
             "#d8576b"
            ],
            [
             0.6666666666666666,
             "#ed7953"
            ],
            [
             0.7777777777777778,
             "#fb9f3a"
            ],
            [
             0.8888888888888888,
             "#fdca26"
            ],
            [
             1,
             "#f0f921"
            ]
           ]
          },
          "colorway": [
           "#636efa",
           "#EF553B",
           "#00cc96",
           "#ab63fa",
           "#FFA15A",
           "#19d3f3",
           "#FF6692",
           "#B6E880",
           "#FF97FF",
           "#FECB52"
          ],
          "font": {
           "color": "#2a3f5f"
          },
          "geo": {
           "bgcolor": "white",
           "lakecolor": "white",
           "landcolor": "#E5ECF6",
           "showlakes": true,
           "showland": true,
           "subunitcolor": "white"
          },
          "hoverlabel": {
           "align": "left"
          },
          "hovermode": "closest",
          "mapbox": {
           "style": "light"
          },
          "paper_bgcolor": "white",
          "plot_bgcolor": "#E5ECF6",
          "polar": {
           "angularaxis": {
            "gridcolor": "white",
            "linecolor": "white",
            "ticks": ""
           },
           "bgcolor": "#E5ECF6",
           "radialaxis": {
            "gridcolor": "white",
            "linecolor": "white",
            "ticks": ""
           }
          },
          "scene": {
           "xaxis": {
            "backgroundcolor": "#E5ECF6",
            "gridcolor": "white",
            "gridwidth": 2,
            "linecolor": "white",
            "showbackground": true,
            "ticks": "",
            "zerolinecolor": "white"
           },
           "yaxis": {
            "backgroundcolor": "#E5ECF6",
            "gridcolor": "white",
            "gridwidth": 2,
            "linecolor": "white",
            "showbackground": true,
            "ticks": "",
            "zerolinecolor": "white"
           },
           "zaxis": {
            "backgroundcolor": "#E5ECF6",
            "gridcolor": "white",
            "gridwidth": 2,
            "linecolor": "white",
            "showbackground": true,
            "ticks": "",
            "zerolinecolor": "white"
           }
          },
          "shapedefaults": {
           "line": {
            "color": "#2a3f5f"
           }
          },
          "ternary": {
           "aaxis": {
            "gridcolor": "white",
            "linecolor": "white",
            "ticks": ""
           },
           "baxis": {
            "gridcolor": "white",
            "linecolor": "white",
            "ticks": ""
           },
           "bgcolor": "#E5ECF6",
           "caxis": {
            "gridcolor": "white",
            "linecolor": "white",
            "ticks": ""
           }
          },
          "title": {
           "x": 0.05
          },
          "xaxis": {
           "automargin": true,
           "gridcolor": "white",
           "linecolor": "white",
           "ticks": "",
           "title": {
            "standoff": 15
           },
           "zerolinecolor": "white",
           "zerolinewidth": 2
          },
          "yaxis": {
           "automargin": true,
           "gridcolor": "white",
           "linecolor": "white",
           "ticks": "",
           "title": {
            "standoff": 15
           },
           "zerolinecolor": "white",
           "zerolinewidth": 2
          }
         }
        },
        "title": {
         "text": "Taxa de Ocupação de UTI por Estado (Últimos 15 dias)"
        },
        "width": 600,
        "xaxis": {
         "autorange": true,
         "range": [
          "2021-07-15 12:00",
          "2021-07-29 12:00"
         ],
         "type": "date"
        },
        "yaxis": {
         "autorange": true,
         "categoryorder": "total ascending",
         "range": [
          -0.5,
          26.5
         ],
         "type": "category"
        }
       }
      },
      "image/png": "[encoded data removed]",
      "text/html": [
       "<div>                            <div id=\"a8472bb3-17ae-48ec-add7-cf34be1d46be\" class=\"plotly-graph-div\" style=\"height:600px; width:600px;\"></div>            <script type=\"text/javascript\">                require([\"plotly\"], function(Plotly) {                    window.PLOTLYENV=window.PLOTLYENV || {};                                    if (document.getElementById(\"a8472bb3-17ae-48ec-add7-cf34be1d46be\")) {                    Plotly.newPlot(                        \"a8472bb3-17ae-48ec-add7-cf34be1d46be\",                        [{\"colorscale\":[[0,\"#DAF7A6\"],[0.3,\"#FFC300\"],[0.6,\"#FF5733\"],[0.75,\"#C70039\"],[1,\"#900C3F\"]],\"hoverongaps\":false,\"hovertemplate\":\"Data: %{x}<br>UF: %{y}<br>%: %{z}<extra></extra>\",\"opacity\":0.8,\"type\":\"heatmap\",\"x\":[\"2021-07-29\",\"2021-07-29\",\"2021-07-29\",\"2021-07-29\",\"2021-07-29\",\"2021-07-29\",\"2021-07-29\",\"2021-07-29\",\"2021-07-29\",\"2021-07-29\",\"2021-07-29\",\"2021-07-29\",\"2021-07-29\",\"2021-07-29\",\"2021-07-29\",\"2021-07-29\",\"2021-07-29\",\"2021-07-29\",\"2021-07-29\",\"2021-07-29\",\"2021-07-29\",\"2021-07-29\",\"2021-07-29\",\"2021-07-29\",\"2021-07-29\",\"2021-07-29\",\"2021-07-29\",\"2021-07-28\",\"2021-07-28\",\"2021-07-28\",\"2021-07-28\",\"2021-07-28\",\"2021-07-28\",\"2021-07-28\",\"2021-07-28\",\"2021-07-28\",\"2021-07-28\",\"2021-07-28\",\"2021-07-28\",\"2021-07-28\",\"2021-07-28\",\"2021-07-28\",\"2021-07-28\",\"2021-07-28\",\"2021-07-28\",\"2021-07-28\",\"2021-07-28\",\"2021-07-28\",\"2021-07-28\",\"2021-07-28\",\"2021-07-28\",\"2021-07-28\",\"2021-07-28\",\"2021-07-28\",\"2021-07-27\",\"2021-07-27\",\"2021-07-27\",\"2021-07-27\",\"2021-07-27\",\"2021-07-27\",\"2021-07-27\",\"2021-07-27\",\"2021-07-27\",\"2021-07-27\",\"2021-07-27\",\"2021-07-27\",\"2021-07-27\",\"2021-07-27\",\"2021-07-27\",\"2021-07-27\",\"2021-07-27\",\"2021-07-27\",\"2021-07-27\",\"2021-07-27\",\"2021-07-27\",\"2021-07-27\",\"2021-07-27\",\"2021-07-27\",\"2021-07-27\",\"2021-07-27\",\"2021-07-27\",\"2021-07-26\",\"2021-07-26\",\"2021-07-26\",\"2021-07-26\",\"2021-07-26\",\"2021-07-26\",\"2021-07-26\",\"2021-07-26\",\"2021-07-26\",\"2021-07-26\",\"2021-07-26\",\"2021-07-26\",\"2021-07-26\",\"2021-07-26\",\"2021-07-26\",\"2021-07-26\",\"2021-07-26\",\"2021-07-26\",\"2021-07-26\",\"2021-07-26\",\"2021-07-26\",\"2021-07-26\",\"2021-07-26\",\"2021-07-26\",\"2021-07-26\",\"2021-07-26\",\"2021-07-26\",\"2021-07-25\",\"2021-07-25\",\"2021-07-25\",\"2021-07-25\",\"2021-07-25\",\"2021-07-25\",\"2021-07-25\",\"2021-07-25\",\"2021-07-25\",\"2021-07-25\",\"2021-07-25\",\"2021-07-25\",\"2021-07-25\",\"2021-07-25\",\"2021-07-25\",\"2021-07-25\",\"2021-07-25\",\"2021-07-25\",\"2021-07-25\",\"2021-07-25\",\"2021-07-25\",\"2021-07-25\",\"2021-07-25\",\"2021-07-25\",\"2021-07-25\",\"2021-07-25\",\"2021-07-25\",\"2021-07-24\",\"2021-07-24\",\"2021-07-24\",\"2021-07-24\",\"2021-07-24\",\"2021-07-24\",\"2021-07-24\",\"2021-07-24\",\"2021-07-24\",\"2021-07-24\",\"2021-07-24\",\"2021-07-24\",\"2021-07-24\",\"2021-07-24\",\"2021-07-24\",\"2021-07-24\",\"2021-07-24\",\"2021-07-24\",\"2021-07-24\",\"2021-07-24\",\"2021-07-24\",\"2021-07-24\",\"2021-07-24\",\"2021-07-24\",\"2021-07-24\",\"2021-07-24\",\"2021-07-24\",\"2021-07-23\",\"2021-07-23\",\"2021-07-23\",\"2021-07-23\",\"2021-07-23\",\"2021-07-23\",\"2021-07-23\",\"2021-07-23\",\"2021-07-23\",\"2021-07-23\",\"2021-07-23\",\"2021-07-23\",\"2021-07-23\",\"2021-07-23\",\"2021-07-23\",\"2021-07-23\",\"2021-07-23\",\"2021-07-23\",\"2021-07-23\",\"2021-07-23\",\"2021-07-23\",\"2021-07-23\",\"2021-07-23\",\"2021-07-23\",\"2021-07-23\",\"2021-07-23\",\"2021-07-23\",\"2021-07-22\",\"2021-07-22\",\"2021-07-22\",\"2021-07-22\",\"2021-07-22\",\"2021-07-22\",\"2021-07-22\",\"2021-07-22\",\"2021-07-22\",\"2021-07-22\",\"2021-07-22\",\"2021-07-22\",\"2021-07-22\",\"2021-07-22\",\"2021-07-22\",\"2021-07-22\",\"2021-07-22\",\"2021-07-22\",\"2021-07-22\",\"2021-07-22\",\"2021-07-22\",\"2021-07-22\",\"2021-07-22\",\"2021-07-22\",\"2021-07-22\",\"2021-07-22\",\"2021-07-22\",\"2021-07-21\",\"2021-07-21\",\"2021-07-21\",\"2021-07-21\",\"2021-07-21\",\"2021-07-21\",\"2021-07-21\",\"2021-07-21\",\"2021-07-21\",\"2021-07-21\",\"2021-07-21\",\"2021-07-21\",\"2021-07-21\",\"2021-07-21\",\"2021-07-21\",\"2021-07-21\",\"2021-07-21\",\"2021-07-21\",\"2021-07-21\",\"2021-07-21\",\"2021-07-21\",\"2021-07-21\",\"2021-07-21\",\"2021-07-21\",\"2021-07-21\",\"2021-07-21\",\"2021-07-21\",\"2021-07-20\",\"2021-07-20\",\"2021-07-20\",\"2021-07-20\",\"2021-07-20\",\"2021-07-20\",\"2021-07-20\",\"2021-07-20\",\"2021-07-20\",\"2021-07-20\",\"2021-07-20\",\"2021-07-20\",\"2021-07-20\",\"2021-07-20\",\"2021-07-20\",\"2021-07-20\",\"2021-07-20\",\"2021-07-20\",\"2021-07-20\",\"2021-07-20\",\"2021-07-20\",\"2021-07-20\",\"2021-07-20\",\"2021-07-20\",\"2021-07-20\",\"2021-07-20\",\"2021-07-20\",\"2021-07-19\",\"2021-07-19\",\"2021-07-19\",\"2021-07-19\",\"2021-07-19\",\"2021-07-19\",\"2021-07-19\",\"2021-07-19\",\"2021-07-19\",\"2021-07-19\",\"2021-07-19\",\"2021-07-19\",\"2021-07-19\",\"2021-07-19\",\"2021-07-19\",\"2021-07-19\",\"2021-07-19\",\"2021-07-19\",\"2021-07-19\",\"2021-07-19\",\"2021-07-19\",\"2021-07-19\",\"2021-07-19\",\"2021-07-19\",\"2021-07-19\",\"2021-07-19\",\"2021-07-19\",\"2021-07-18\",\"2021-07-18\",\"2021-07-18\",\"2021-07-18\",\"2021-07-18\",\"2021-07-18\",\"2021-07-18\",\"2021-07-18\",\"2021-07-18\",\"2021-07-18\",\"2021-07-18\",\"2021-07-18\",\"2021-07-18\",\"2021-07-18\",\"2021-07-18\",\"2021-07-18\",\"2021-07-18\",\"2021-07-18\",\"2021-07-18\",\"2021-07-18\",\"2021-07-18\",\"2021-07-18\",\"2021-07-18\",\"2021-07-18\",\"2021-07-18\",\"2021-07-18\",\"2021-07-18\",\"2021-07-17\",\"2021-07-17\",\"2021-07-17\",\"2021-07-17\",\"2021-07-17\",\"2021-07-17\",\"2021-07-17\",\"2021-07-17\",\"2021-07-17\",\"2021-07-17\",\"2021-07-17\",\"2021-07-17\",\"2021-07-17\",\"2021-07-17\",\"2021-07-17\",\"2021-07-17\",\"2021-07-17\",\"2021-07-17\",\"2021-07-17\",\"2021-07-17\",\"2021-07-17\",\"2021-07-17\",\"2021-07-17\",\"2021-07-17\",\"2021-07-17\",\"2021-07-17\",\"2021-07-17\",\"2021-07-16\",\"2021-07-16\",\"2021-07-16\",\"2021-07-16\",\"2021-07-16\",\"2021-07-16\",\"2021-07-16\",\"2021-07-16\",\"2021-07-16\",\"2021-07-16\",\"2021-07-16\",\"2021-07-16\",\"2021-07-16\",\"2021-07-16\",\"2021-07-16\",\"2021-07-16\",\"2021-07-16\",\"2021-07-16\",\"2021-07-16\",\"2021-07-16\",\"2021-07-16\",\"2021-07-16\",\"2021-07-16\",\"2021-07-16\",\"2021-07-16\",\"2021-07-16\",\"2021-07-16\"],\"y\":[\"Santa Catarina\",\"Rio Grande do Norte\",\"Tocantins\",\"Acre\",\"Paran\\u00e1\",\"Esp\\u00edrito Santo\",\"Bahia\",\"Sergipe\",\"Minas Gerais\",\"Mato Grosso\",\"Cear\\u00e1\",\"Alagoas\",\"Rio de Janeiro\",\"Piau\\u00ed\",\"Mato Grosso do Sul\",\" S\\u00e3o Paulo\",\"Pernambuco\",\"Maranh\\u00e3o\",\"Distrito Federal\",\"Para\\u00edba\",\"Rio Grande do Sul\",\"Goi\\u00e1s\",\"Amap\\u00e1\",\"Roraima\",\"Par\\u00e1\",\"Amazonas\",\"Rond\\u00f4nia\",\"Rio de Janeiro\",\"Rond\\u00f4nia\",\"Piau\\u00ed\",\"Rio Grande do Sul\",\"Rio Grande do Norte\",\"Amap\\u00e1\",\"Bahia\",\"Mato Grosso\",\"Minas Gerais\",\" S\\u00e3o Paulo\",\"Mato Grosso do Sul\",\"Goi\\u00e1s\",\"Sergipe\",\"Cear\\u00e1\",\"Pernambuco\",\"Alagoas\",\"Paran\\u00e1\",\"Roraima\",\"Esp\\u00edrito Santo\",\"Amazonas\",\"Para\\u00edba\",\"Maranh\\u00e3o\",\"Par\\u00e1\",\"Santa Catarina\",\"Acre\",\"Distrito Federal\",\"Tocantins\",\"Piau\\u00ed\",\"Goi\\u00e1s\",\"Para\\u00edba\",\"Santa Catarina\",\"Pernambuco\",\"Mato Grosso\",\" S\\u00e3o Paulo\",\"Rond\\u00f4nia\",\"Maranh\\u00e3o\",\"Distrito Federal\",\"Mato Grosso do Sul\",\"Par\\u00e1\",\"Sergipe\",\"Cear\\u00e1\",\"Tocantins\",\"Esp\\u00edrito Santo\",\"Alagoas\",\"Rio de Janeiro\",\"Bahia\",\"Roraima\",\"Paran\\u00e1\",\"Acre\",\"Amazonas\",\"Minas Gerais\",\"Amap\\u00e1\",\"Rio Grande do Norte\",\"Rio Grande do Sul\",\"Acre\",\"Tocantins\",\"Para\\u00edba\",\"Goi\\u00e1s\",\"Amazonas\",\"Pernambuco\",\"Esp\\u00edrito Santo\",\"Distrito Federal\",\"Rond\\u00f4nia\",\"Roraima\",\"Sergipe\",\"Minas Gerais\",\"Amap\\u00e1\",\"Piau\\u00ed\",\"Rio de Janeiro\",\"Rio Grande do Norte\",\" S\\u00e3o Paulo\",\"Par\\u00e1\",\"Santa Catarina\",\"Bahia\",\"Maranh\\u00e3o\",\"Mato Grosso do Sul\",\"Alagoas\",\"Rio Grande do Sul\",\"Mato Grosso\",\"Cear\\u00e1\",\"Paran\\u00e1\",\"Tocantins\",\"Rio Grande do Norte\",\"Roraima\",\" S\\u00e3o Paulo\",\"Alagoas\",\"Paran\\u00e1\",\"Sergipe\",\"Esp\\u00edrito Santo\",\"Mato Grosso\",\"Minas Gerais\",\"Rio Grande do Sul\",\"Amazonas\",\"Acre\",\"Pernambuco\",\"Cear\\u00e1\",\"Rio de Janeiro\",\"Amap\\u00e1\",\"Piau\\u00ed\",\"Bahia\",\"Mato Grosso do Sul\",\"Par\\u00e1\",\"Maranh\\u00e3o\",\"Santa Catarina\",\"Distrito Federal\",\"Goi\\u00e1s\",\"Para\\u00edba\",\"Rond\\u00f4nia\",\"Amazonas\",\"Rio Grande do Sul\",\"Goi\\u00e1s\",\"Cear\\u00e1\",\"Rio de Janeiro\",\"Rio Grande do Norte\",\"Mato Grosso\",\"Tocantins\",\"Acre\",\"Para\\u00edba\",\"Minas Gerais\",\"Esp\\u00edrito Santo\",\"Sergipe\",\"Paran\\u00e1\",\"Par\\u00e1\",\"Bahia\",\"Rond\\u00f4nia\",\"Pernambuco\",\"Mato Grosso do Sul\",\"Alagoas\",\"Amap\\u00e1\",\"Roraima\",\"Santa Catarina\",\" S\\u00e3o Paulo\",\"Distrito Federal\",\"Piau\\u00ed\",\"Maranh\\u00e3o\",\"Santa Catarina\",\"Paran\\u00e1\",\"Maranh\\u00e3o\",\"Par\\u00e1\",\" S\\u00e3o Paulo\",\"Sergipe\",\"Para\\u00edba\",\"Distrito Federal\",\"Esp\\u00edrito Santo\",\"Bahia\",\"Minas Gerais\",\"Amap\\u00e1\",\"Acre\",\"Mato Grosso\",\"Rio Grande do Norte\",\"Mato Grosso do Sul\",\"Rond\\u00f4nia\",\"Piau\\u00ed\",\"Goi\\u00e1s\",\"Alagoas\",\"Pernambuco\",\"Rio de Janeiro\",\"Amazonas\",\"Roraima\",\"Rio Grande do Sul\",\"Cear\\u00e1\",\"Tocantins\",\"Esp\\u00edrito Santo\",\"Amazonas\",\"Tocantins\",\"Acre\",\"Alagoas\",\"Amap\\u00e1\",\"Roraima\",\"Santa Catarina\",\"Bahia\",\"Rond\\u00f4nia\",\"Rio Grande do Sul\",\"Par\\u00e1\",\"Sergipe\",\"Rio de Janeiro\",\"Pernambuco\",\"Goi\\u00e1s\",\"Piau\\u00ed\",\"Mato Grosso\",\" S\\u00e3o Paulo\",\"Rio Grande do Norte\",\"Distrito Federal\",\"Cear\\u00e1\",\"Para\\u00edba\",\"Maranh\\u00e3o\",\"Mato Grosso do Sul\",\"Minas Gerais\",\"Paran\\u00e1\",\"Paran\\u00e1\",\"Maranh\\u00e3o\",\"Minas Gerais\",\"Mato Grosso\",\"Amap\\u00e1\",\"Piau\\u00ed\",\"Rond\\u00f4nia\",\"Sergipe\",\" S\\u00e3o Paulo\",\"Distrito Federal\",\"Par\\u00e1\",\"Goi\\u00e1s\",\"Rio Grande do Norte\",\"Amazonas\",\"Esp\\u00edrito Santo\",\"Tocantins\",\"Rio Grande do Sul\",\"Para\\u00edba\",\"Bahia\",\"Santa Catarina\",\"Acre\",\"Pernambuco\",\"Mato Grosso do Sul\",\"Rio de Janeiro\",\"Roraima\",\"Alagoas\",\"Cear\\u00e1\",\"Rond\\u00f4nia\",\"Pernambuco\",\"Alagoas\",\"Distrito Federal\",\"Santa Catarina\",\"Amap\\u00e1\",\"Roraima\",\"Rio Grande do Norte\",\"Goi\\u00e1s\",\"Maranh\\u00e3o\",\"Rio Grande do Sul\",\"Mato Grosso do Sul\",\"Sergipe\",\"Acre\",\"Paran\\u00e1\",\"Para\\u00edba\",\"Bahia\",\"Esp\\u00edrito Santo\",\"Rio de Janeiro\",\"Par\\u00e1\",\"Cear\\u00e1\",\"Tocantins\",\"Amazonas\",\" S\\u00e3o Paulo\",\"Minas Gerais\",\"Piau\\u00ed\",\"Mato Grosso\",\"Minas Gerais\",\"Tocantins\",\"Goi\\u00e1s\",\"Santa Catarina\",\"Roraima\",\"Distrito Federal\",\"Mato Grosso\",\" S\\u00e3o Paulo\",\"Esp\\u00edrito Santo\",\"Rio Grande do Sul\",\"Rio de Janeiro\",\"Paran\\u00e1\",\"Mato Grosso do Sul\",\"Rond\\u00f4nia\",\"Par\\u00e1\",\"Rio Grande do Norte\",\"Sergipe\",\"Para\\u00edba\",\"Acre\",\"Pernambuco\",\"Maranh\\u00e3o\",\"Amazonas\",\"Amap\\u00e1\",\"Bahia\",\"Piau\\u00ed\",\"Cear\\u00e1\",\"Alagoas\",\"Rond\\u00f4nia\",\"Roraima\",\"Amap\\u00e1\",\"Rio de Janeiro\",\"Paran\\u00e1\",\"Cear\\u00e1\",\"Minas Gerais\",\"Par\\u00e1\",\"Amazonas\",\"Mato Grosso\",\"Distrito Federal\",\"Maranh\\u00e3o\",\"Alagoas\",\"Pernambuco\",\"Mato Grosso do Sul\",\"Esp\\u00edrito Santo\",\"Acre\",\"Sergipe\",\"Para\\u00edba\",\"Goi\\u00e1s\",\"Santa Catarina\",\"Tocantins\",\"Rio Grande do Sul\",\"Rio Grande do Norte\",\"Bahia\",\" S\\u00e3o Paulo\",\"Piau\\u00ed\",\"Amazonas\",\"Mato Grosso\",\"Distrito Federal\",\"Maranh\\u00e3o\",\"Alagoas\",\"Rond\\u00f4nia\",\"Roraima\",\"Rio Grande do Sul\",\"Esp\\u00edrito Santo\",\"Rio Grande do Norte\",\"Acre\",\"Sergipe\",\"Para\\u00edba\",\" S\\u00e3o Paulo\",\"Par\\u00e1\",\"Goi\\u00e1s\",\"Pernambuco\",\"Mato Grosso do Sul\",\"Bahia\",\"Minas Gerais\",\"Amap\\u00e1\",\"Paran\\u00e1\",\"Cear\\u00e1\",\"Piau\\u00ed\",\"Rio de Janeiro\",\"Tocantins\",\"Santa Catarina\",\"Goi\\u00e1s\",\"Amap\\u00e1\",\" S\\u00e3o Paulo\",\"Alagoas\",\"Par\\u00e1\",\"Rio de Janeiro\",\"Para\\u00edba\",\"Rio Grande do Norte\",\"Cear\\u00e1\",\"Acre\",\"Pernambuco\",\"Minas Gerais\",\"Santa Catarina\",\"Maranh\\u00e3o\",\"Sergipe\",\"Rio Grande do Sul\",\"Amazonas\",\"Distrito Federal\",\"Tocantins\",\"Mato Grosso\",\"Roraima\",\"Bahia\",\"Rond\\u00f4nia\",\"Piau\\u00ed\",\"Paran\\u00e1\",\"Esp\\u00edrito Santo\",\"Mato Grosso do Sul\"],\"z\":[64,41,75,23,59,47,51,39,54,81,46,35,57,57,66,52,47,60,85,30,64,81,31,62,54,51,54,58,55,51,65,42,32,53,74,55,53,65,84,39,47,49,35,60,68,49,50,31,63,57,65,21,80,71,52,85,32,64,49,76,54,55,70,88,68,61,41,48,72,51,45,58,52,68,63,20,52,54,32,42,66,17,69,34,85,52,49,50,90,55,68,45,56,34,57,59,41,55,61,65,53,65,61,45,68,63,50,64,72,44,72,56,44,63,46,50,70,56,66,55,19,49,58,59,36,51,54,67,62,62,66,88,83,34,59,54,69,83,49,58,49,70,71,12,34,57,50,48,65,59,56,57,52,69,44,38,69,71,58,94,53,58,71,62,58,59,58,48,34,94,50,56,57,38,12,70,49,69,57,53,83,45,52,58,54,69,69,49,71,50,54,71,14,44,39,70,72,56,57,69,58,55,59,55,81,53,72,59,50,93,49,34,60,63,58,66,68,62,58,66,47,51,57,51,60,91,60,86,50,56,51,70,71,34,57,73,13,55,65,58,65,49,48,60,58,53,93,75,47,68,49,84,64,71,63,43,13,72,34,57,52,60,58,50,73,56,61,59,53,72,60,75,82,79,66,93,70,62,54,73,60,72,67,63,60,48,45,34,17,58,65,61,47,60,54,52,54,64,65,47,58,72,61,59,63,62,69,94,60,56,61,66,51,18,47,34,80,84,71,73,49,58,63,53,58,76,90,53,56,64,66,73,52,51,20,48,34,63,62,80,61,68,58,59,47,74,60,54,59,75,84,80,47,64,58,57,60,35,53,59,22,62,58,78,64,51,75,59,89,78,72,72,57,66,52,75,52,68],\"zmax\":100,\"zmin\":0}],                        {\"height\":600,\"template\":{\"data\":{\"bar\":[{\"error_x\":{\"color\":\"#2a3f5f\"},\"error_y\":{\"color\":\"#2a3f5f\"},\"marker\":{\"line\":{\"color\":\"#E5ECF6\",\"width\":0.5},\"pattern\":{\"fillmode\":\"overlay\",\"size\":10,\"solidity\":0.2}},\"type\":\"bar\"}],\"barpolar\":[{\"marker\":{\"line\":{\"color\":\"#E5ECF6\",\"width\":0.5},\"pattern\":{\"fillmode\":\"overlay\",\"size\":10,\"solidity\":0.2}},\"type\":\"barpolar\"}],\"carpet\":[{\"aaxis\":{\"endlinecolor\":\"#2a3f5f\",\"gridcolor\":\"white\",\"linecolor\":\"white\",\"minorgridcolor\":\"white\",\"startlinecolor\":\"#2a3f5f\"},\"baxis\":{\"endlinecolor\":\"#2a3f5f\",\"gridcolor\":\"white\",\"linecolor\":\"white\",\"minorgridcolor\":\"white\",\"startlinecolor\":\"#2a3f5f\"},\"type\":\"carpet\"}],\"choropleth\":[{\"colorbar\":{\"outlinewidth\":0,\"ticks\":\"\"},\"type\":\"choropleth\"}],\"contour\":[{\"colorbar\":{\"outlinewidth\":0,\"ticks\":\"\"},\"colorscale\":[[0.0,\"#0d0887\"],[0.1111111111111111,\"#46039f\"],[0.2222222222222222,\"#7201a8\"],[0.3333333333333333,\"#9c179e\"],[0.4444444444444444,\"#bd3786\"],[0.5555555555555556,\"#d8576b\"],[0.6666666666666666,\"#ed7953\"],[0.7777777777777778,\"#fb9f3a\"],[0.8888888888888888,\"#fdca26\"],[1.0,\"#f0f921\"]],\"type\":\"contour\"}],\"contourcarpet\":[{\"colorbar\":{\"outlinewidth\":0,\"ticks\":\"\"},\"type\":\"contourcarpet\"}],\"heatmap\":[{\"colorbar\":{\"outlinewidth\":0,\"ticks\":\"\"},\"colorscale\":[[0.0,\"#0d0887\"],[0.1111111111111111,\"#46039f\"],[0.2222222222222222,\"#7201a8\"],[0.3333333333333333,\"#9c179e\"],[0.4444444444444444,\"#bd3786\"],[0.5555555555555556,\"#d8576b\"],[0.6666666666666666,\"#ed7953\"],[0.7777777777777778,\"#fb9f3a\"],[0.8888888888888888,\"#fdca26\"],[1.0,\"#f0f921\"]],\"type\":\"heatmap\"}],\"heatmapgl\":[{\"colorbar\":{\"outlinewidth\":0,\"ticks\":\"\"},\"colorscale\":[[0.0,\"#0d0887\"],[0.1111111111111111,\"#46039f\"],[0.2222222222222222,\"#7201a8\"],[0.3333333333333333,\"#9c179e\"],[0.4444444444444444,\"#bd3786\"],[0.5555555555555556,\"#d8576b\"],[0.6666666666666666,\"#ed7953\"],[0.7777777777777778,\"#fb9f3a\"],[0.8888888888888888,\"#fdca26\"],[1.0,\"#f0f921\"]],\"type\":\"heatmapgl\"}],\"histogram\":[{\"marker\":{\"pattern\":{\"fillmode\":\"overlay\",\"size\":10,\"solidity\":0.2}},\"type\":\"histogram\"}],\"histogram2d\":[{\"colorbar\":{\"outlinewidth\":0,\"ticks\":\"\"},\"colorscale\":[[0.0,\"#0d0887\"],[0.1111111111111111,\"#46039f\"],[0.2222222222222222,\"#7201a8\"],[0.3333333333333333,\"#9c179e\"],[0.4444444444444444,\"#bd3786\"],[0.5555555555555556,\"#d8576b\"],[0.6666666666666666,\"#ed7953\"],[0.7777777777777778,\"#fb9f3a\"],[0.8888888888888888,\"#fdca26\"],[1.0,\"#f0f921\"]],\"type\":\"histogram2d\"}],\"histogram2dcontour\":[{\"colorbar\":{\"outlinewidth\":0,\"ticks\":\"\"},\"colorscale\":[[0.0,\"#0d0887\"],[0.1111111111111111,\"#46039f\"],[0.2222222222222222,\"#7201a8\"],[0.3333333333333333,\"#9c179e\"],[0.4444444444444444,\"#bd3786\"],[0.5555555555555556,\"#d8576b\"],[0.6666666666666666,\"#ed7953\"],[0.7777777777777778,\"#fb9f3a\"],[0.8888888888888888,\"#fdca26\"],[1.0,\"#f0f921\"]],\"type\":\"histogram2dcontour\"}],\"mesh3d\":[{\"colorbar\":{\"outlinewidth\":0,\"ticks\":\"\"},\"type\":\"mesh3d\"}],\"parcoords\":[{\"line\":{\"colorbar\":{\"outlinewidth\":0,\"ticks\":\"\"}},\"type\":\"parcoords\"}],\"pie\":[{\"automargin\":true,\"type\":\"pie\"}],\"scatter\":[{\"marker\":{\"colorbar\":{\"outlinewidth\":0,\"ticks\":\"\"}},\"type\":\"scatter\"}],\"scatter3d\":[{\"line\":{\"colorbar\":{\"outlinewidth\":0,\"ticks\":\"\"}},\"marker\":{\"colorbar\":{\"outlinewidth\":0,\"ticks\":\"\"}},\"type\":\"scatter3d\"}],\"scattercarpet\":[{\"marker\":{\"colorbar\":{\"outlinewidth\":0,\"ticks\":\"\"}},\"type\":\"scattercarpet\"}],\"scattergeo\":[{\"marker\":{\"colorbar\":{\"outlinewidth\":0,\"ticks\":\"\"}},\"type\":\"scattergeo\"}],\"scattergl\":[{\"marker\":{\"colorbar\":{\"outlinewidth\":0,\"ticks\":\"\"}},\"type\":\"scattergl\"}],\"scattermapbox\":[{\"marker\":{\"colorbar\":{\"outlinewidth\":0,\"ticks\":\"\"}},\"type\":\"scattermapbox\"}],\"scatterpolar\":[{\"marker\":{\"colorbar\":{\"outlinewidth\":0,\"ticks\":\"\"}},\"type\":\"scatterpolar\"}],\"scatterpolargl\":[{\"marker\":{\"colorbar\":{\"outlinewidth\":0,\"ticks\":\"\"}},\"type\":\"scatterpolargl\"}],\"scatterternary\":[{\"marker\":{\"colorbar\":{\"outlinewidth\":0,\"ticks\":\"\"}},\"type\":\"scatterternary\"}],\"surface\":[{\"colorbar\":{\"outlinewidth\":0,\"ticks\":\"\"},\"colorscale\":[[0.0,\"#0d0887\"],[0.1111111111111111,\"#46039f\"],[0.2222222222222222,\"#7201a8\"],[0.3333333333333333,\"#9c179e\"],[0.4444444444444444,\"#bd3786\"],[0.5555555555555556,\"#d8576b\"],[0.6666666666666666,\"#ed7953\"],[0.7777777777777778,\"#fb9f3a\"],[0.8888888888888888,\"#fdca26\"],[1.0,\"#f0f921\"]],\"type\":\"surface\"}],\"table\":[{\"cells\":{\"fill\":{\"color\":\"#EBF0F8\"},\"line\":{\"color\":\"white\"}},\"header\":{\"fill\":{\"color\":\"#C8D4E3\"},\"line\":{\"color\":\"white\"}},\"type\":\"table\"}]},\"layout\":{\"annotationdefaults\":{\"arrowcolor\":\"#2a3f5f\",\"arrowhead\":0,\"arrowwidth\":1},\"autotypenumbers\":\"strict\",\"coloraxis\":{\"colorbar\":{\"outlinewidth\":0,\"ticks\":\"\"}},\"colorscale\":{\"diverging\":[[0,\"#8e0152\"],[0.1,\"#c51b7d\"],[0.2,\"#de77ae\"],[0.3,\"#f1b6da\"],[0.4,\"#fde0ef\"],[0.5,\"#f7f7f7\"],[0.6,\"#e6f5d0\"],[0.7,\"#b8e186\"],[0.8,\"#7fbc41\"],[0.9,\"#4d9221\"],[1,\"#276419\"]],\"sequential\":[[0.0,\"#0d0887\"],[0.1111111111111111,\"#46039f\"],[0.2222222222222222,\"#7201a8\"],[0.3333333333333333,\"#9c179e\"],[0.4444444444444444,\"#bd3786\"],[0.5555555555555556,\"#d8576b\"],[0.6666666666666666,\"#ed7953\"],[0.7777777777777778,\"#fb9f3a\"],[0.8888888888888888,\"#fdca26\"],[1.0,\"#f0f921\"]],\"sequentialminus\":[[0.0,\"#0d0887\"],[0.1111111111111111,\"#46039f\"],[0.2222222222222222,\"#7201a8\"],[0.3333333333333333,\"#9c179e\"],[0.4444444444444444,\"#bd3786\"],[0.5555555555555556,\"#d8576b\"],[0.6666666666666666,\"#ed7953\"],[0.7777777777777778,\"#fb9f3a\"],[0.8888888888888888,\"#fdca26\"],[1.0,\"#f0f921\"]]},\"colorway\":[\"#636efa\",\"#EF553B\",\"#00cc96\",\"#ab63fa\",\"#FFA15A\",\"#19d3f3\",\"#FF6692\",\"#B6E880\",\"#FF97FF\",\"#FECB52\"],\"font\":{\"color\":\"#2a3f5f\"},\"geo\":{\"bgcolor\":\"white\",\"lakecolor\":\"white\",\"landcolor\":\"#E5ECF6\",\"showlakes\":true,\"showland\":true,\"subunitcolor\":\"white\"},\"hoverlabel\":{\"align\":\"left\"},\"hovermode\":\"closest\",\"mapbox\":{\"style\":\"light\"},\"paper_bgcolor\":\"white\",\"plot_bgcolor\":\"#E5ECF6\",\"polar\":{\"angularaxis\":{\"gridcolor\":\"white\",\"linecolor\":\"white\",\"ticks\":\"\"},\"bgcolor\":\"#E5ECF6\",\"radialaxis\":{\"gridcolor\":\"white\",\"linecolor\":\"white\",\"ticks\":\"\"}},\"scene\":{\"xaxis\":{\"backgroundcolor\":\"#E5ECF6\",\"gridcolor\":\"white\",\"gridwidth\":2,\"linecolor\":\"white\",\"showbackground\":true,\"ticks\":\"\",\"zerolinecolor\":\"white\"},\"yaxis\":{\"backgroundcolor\":\"#E5ECF6\",\"gridcolor\":\"white\",\"gridwidth\":2,\"linecolor\":\"white\",\"showbackground\":true,\"ticks\":\"\",\"zerolinecolor\":\"white\"},\"zaxis\":{\"backgroundcolor\":\"#E5ECF6\",\"gridcolor\":\"white\",\"gridwidth\":2,\"linecolor\":\"white\",\"showbackground\":true,\"ticks\":\"\",\"zerolinecolor\":\"white\"}},\"shapedefaults\":{\"line\":{\"color\":\"#2a3f5f\"}},\"ternary\":{\"aaxis\":{\"gridcolor\":\"white\",\"linecolor\":\"white\",\"ticks\":\"\"},\"baxis\":{\"gridcolor\":\"white\",\"linecolor\":\"white\",\"ticks\":\"\"},\"bgcolor\":\"#E5ECF6\",\"caxis\":{\"gridcolor\":\"white\",\"linecolor\":\"white\",\"ticks\":\"\"}},\"title\":{\"x\":0.05},\"xaxis\":{\"automargin\":true,\"gridcolor\":\"white\",\"linecolor\":\"white\",\"ticks\":\"\",\"title\":{\"standoff\":15},\"zerolinecolor\":\"white\",\"zerolinewidth\":2},\"yaxis\":{\"automargin\":true,\"gridcolor\":\"white\",\"linecolor\":\"white\",\"ticks\":\"\",\"title\":{\"standoff\":15},\"zerolinecolor\":\"white\",\"zerolinewidth\":2}}},\"title\":{\"text\":\"Taxa de Ocupa\\u00e7\\u00e3o de UTI por Estado (\\u00daltimos 15 dias)\"},\"width\":600,\"yaxis\":{\"categoryorder\":\"total ascending\"}},                        {\"responsive\": true}                    ).then(function(){\n",
       "                            \n",
       "var gd = document.getElementById('a8472bb3-17ae-48ec-add7-cf34be1d46be');\n",
       "var x = new MutationObserver(function (mutations, observer) {{\n",
       "        var display = window.getComputedStyle(gd).display;\n",
       "        if (!display || display === 'none') {{\n",
       "            console.log([gd, 'removed!']);\n",
       "            Plotly.purge(gd);\n",
       "            observer.disconnect();\n",
       "        }}\n",
       "}});\n",
       "\n",
       "// Listen for the removal of the full notebook cells\n",
       "var notebookContainer = gd.closest('#notebook-container');\n",
       "if (notebookContainer) {{\n",
       "    x.observe(notebookContainer, {childList: true});\n",
       "}}\n",
       "\n",
       "// Listen for the clearing of the current output cell\n",
       "var outputEl = gd.closest('.output');\n",
       "if (outputEl) {{\n",
       "    x.observe(outputEl, {childList: true});\n",
       "}}\n",
       "\n",
       "                        })                };                });            </script>        </div>"
      ]
     },
     "metadata": {},
     "output_type": "display_data"
    }
   ],
   "source": [
    "colorscale = [[0, '#DAF7A6'], [0.3, '#FFC300'], [0.6, '#FF5733'], [0.75, '#C70039'], [1, '#900C3F']]\n",
    "\n",
    "fig = go.Figure(data=go.Heatmap(\n",
    "    z=df['% de ocupação de UTI'],\n",
    "    x=df['Data'],\n",
    "    y=df['Estado'],\n",
    "    hoverongaps = False,\n",
    "    colorscale=colorscale,\n",
    "    opacity=0.8, \n",
    "    zmin=0,\n",
    "    zmax=100, \n",
    "    hovertemplate='Data: %{x}<br>UF: %{y}<br>%: %{z}<extra></extra>'))\n",
    "\n",
    "\n",
    "# = ff.create_annotated_heatmap(z)\n",
    "\n",
    "fig.update_layout(\n",
    "    title='Taxa de Ocupação de UTI por Estado (Últimos 15 dias)',\n",
    "    yaxis={'categoryorder':'total ascending'},\n",
    "    height=600,\n",
    "    width=600)\n",
    "\n",
    "fig.show()"
   ]
  },
  {
   "cell_type": "code",
   "execution_count": null,
   "id": "49967586-c05e-491e-8edd-515bcb5db38e",
   "metadata": {},
   "outputs": [],
   "source": []
  }
 ],
 "metadata": {
  "kernelspec": {
   "display_name": "Python 3",
   "language": "python",
   "name": "python3"
  },
  "language_info": {
   "codemirror_mode": {
    "name": "ipython",
    "version": 3
   },
   "file_extension": ".py",
   "mimetype": "text/x-python",
   "name": "python",
   "nbconvert_exporter": "python",
   "pygments_lexer": "ipython3",
   "version": "3.8.10"
  }
 },
 "nbformat": 4,
 "nbformat_minor": 5
}
