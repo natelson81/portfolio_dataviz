{
 "cells": [
  {
   "cell_type": "markdown",
   "id": "60748640-9787-40c6-a3a8-b4db16f9a4d2",
   "metadata": {},
   "source": [
    "### Portfólio de Dashboards - Análise de dados\n",
    "###### Analista de dados: Natelson Oliveira de Souza"
   ]
  },
  {
   "cell_type": "markdown",
   "id": "0146f02d-ce0d-441a-94e5-5b793f261a5b",
   "metadata": {},
   "source": [
    "##### Este é meu Portfólio contendo alguns dos meus trabalhos realizados em Análise de Dados - Concentração em Dataviz - visualização de dados.\n",
    "##### Ferramental geralmente utilizado: SQL, Python, Plotly, Jupyter Lab e Power BI"
   ]
  },
  {
   "cell_type": "markdown",
   "id": "77b4989e-74a3-4d4b-8624-50e9ca17813e",
   "metadata": {},
   "source": [
    "Linkedin: https://www.linkedin.com/in/natelson-oliveira-de-souza-6359b395/"
   ]
  },
  {
   "cell_type": "markdown",
   "id": "8e1aedb4-cf81-452a-810f-fe1eb42add29",
   "metadata": {},
   "source": [
    "### Painel 01\n",
    "##### Objetivo: Disponibilizar informações em tempo real dos números da pandemia para a Sala de Situação do Comitê Científico do Consórcio Nordeste. O comitê, à época, foi coordenado pelo professor Dr. Miguel Nicolelis. Num acordo de colaboração técnica entre o Consórcio e a FLEM, pude desenvolver e aplicar este painel, que compôs a sala juntamente com outros 2 painéis, cada um com objetivos distintos."
   ]
  },
  {
   "cell_type": "markdown",
   "id": "f0adad0a-3951-47f1-8a8e-c6fe4b73136e",
   "metadata": {},
   "source": [
    "##### Institucional: http://www.flem.org.br/flem-noticias/em-parceria-com-o-consorcio-nordeste-flem-disponibiliza-mapeamento-de-coronavirus-por-regiao/\n",
    "##### Na Imprensa: https://destaque1.com/painel-baiano-de-controle-de-casos-de-coronavirus-e-inovacao-no-meio-cientifico/"
   ]
  },
  {
   "cell_type": "code",
   "execution_count": 1,
   "id": "d6c5a291-baa7-4f35-ab39-55039b4f9d97",
   "metadata": {
    "tags": []
   },
   "outputs": [
    {
     "data": {
      "text/html": [
       "<iframe src=\"https://app.powerbi.com/view?r=eyJrIjoiNzRhMWE5ZmEtMjA0My00YjQ5LTlkMTgtZjhmYjFiMjAwN2VlIiwidCI6ImFmZjU2ODdkLTlkZDUtNDJkMS04ZTMzLThjMTIyODk5NzNkOSJ9\" width=\"100%\" height=\"600\"></iframe>\n"
      ],
      "text/plain": [
       "<IPython.core.display.HTML object>"
      ]
     },
     "metadata": {},
     "output_type": "display_data"
    }
   ],
   "source": [
    "%%html\n",
    "<iframe src=\"https://app.powerbi.com/view?r=eyJrIjoiNzRhMWE5ZmEtMjA0My00YjQ5LTlkMTgtZjhmYjFiMjAwN2VlIiwidCI6ImFmZjU2ODdkLTlkZDUtNDJkMS04ZTMzLThjMTIyODk5NzNkOSJ9\" width=\"100%\" height=\"600\"></iframe>"
   ]
  },
  {
   "cell_type": "markdown",
   "id": "19a149cd-0183-44ae-a9ba-c816cbc90b09",
   "metadata": {
    "tags": []
   },
   "source": [
    "### Painel 02\n",
    "##### Objetivo: Através de acordo de colaboração técnica firmado entre a FLEM e o Consaúde (Consórcio de Saúde Intermunicipal do Sul da Bahia), pude desenvolver um dashboard regionalizado de monitoramento, capaz de monitorar os dados diários da pandemia em todas as regiões de saúde do estado da Bahia."
   ]
  },
  {
   "cell_type": "code",
   "execution_count": 2,
   "id": "6dfe7975-8427-4e6d-ac40-76d32f677f4d",
   "metadata": {
    "tags": []
   },
   "outputs": [
    {
     "data": {
      "text/html": [
       "<iframe src=\"https://app.powerbi.com/view?r=eyJrIjoiNDZkYWNmOTgtMzI1NS00NTIzLWJhNzUtZDk0YWU4NTg5YjEyIiwidCI6ImFmZjU2ODdkLTlkZDUtNDJkMS04ZTMzLThjMTIyODk5NzNkOSJ9\" width=\"100%\" height=\"600\"></iframe>\n"
      ],
      "text/plain": [
       "<IPython.core.display.HTML object>"
      ]
     },
     "metadata": {},
     "output_type": "display_data"
    }
   ],
   "source": [
    "%%html\n",
    "<iframe src=\"https://app.powerbi.com/view?r=eyJrIjoiNDZkYWNmOTgtMzI1NS00NTIzLWJhNzUtZDk0YWU4NTg5YjEyIiwidCI6ImFmZjU2ODdkLTlkZDUtNDJkMS04ZTMzLThjMTIyODk5NzNkOSJ9\" width=\"100%\" height=\"600\"></iframe>"
   ]
  },
  {
   "cell_type": "markdown",
   "id": "2e61e0bf-78ec-4505-bb21-d5c714d432d4",
   "metadata": {},
   "source": [
    "### Painel 03\n",
    "##### Objetivo: Desenvolver um painel de informações sobre o progresso da vacinação no Brasil e no Mundo para a FLEM."
   ]
  },
  {
   "cell_type": "markdown",
   "id": "416c3d13-f3b2-4de4-9f6a-3a1049aac367",
   "metadata": {},
   "source": [
    "##### Na imprensa regional: https://www.politicanarede.com.br/flem-lanca-vacinometro-da-covid-19/"
   ]
  },
  {
   "cell_type": "code",
   "execution_count": 10,
   "id": "e06cd6f5-b03e-430d-a2ff-8427a501db6a",
   "metadata": {
    "tags": []
   },
   "outputs": [
    {
     "data": {
      "text/html": [
       "<iframe src=\"https://app.powerbi.com/view?r=eyJrIjoiYTBjMGUwYmMtYWZhMy00ZGY2LTkwZTctMWMyZDJkY2Q4Njg1IiwidCI6ImFmZjU2ODdkLTlkZDUtNDJkMS04ZTMzLThjMTIyODk5NzNkOSJ9\" width=\"100%\" height=\"1720\"></iframe>\n"
      ],
      "text/plain": [
       "<IPython.core.display.HTML object>"
      ]
     },
     "metadata": {},
     "output_type": "display_data"
    }
   ],
   "source": [
    "%%html\n",
    "<iframe src=\"https://app.powerbi.com/view?r=eyJrIjoiYTBjMGUwYmMtYWZhMy00ZGY2LTkwZTctMWMyZDJkY2Q4Njg1IiwidCI6ImFmZjU2ODdkLTlkZDUtNDJkMS04ZTMzLThjMTIyODk5NzNkOSJ9\" width=\"100%\" height=\"1720\"></iframe>"
   ]
  },
  {
   "cell_type": "markdown",
   "id": "27e1340f-a122-49e0-9ce4-99458bba5950",
   "metadata": {},
   "source": [
    "### Painel 04\n",
    "##### Objetivo: Desenvolver um painel regional para a OPAS/OMS acompanhar os casos de Covid-19, SRAG, ocupação de leitos, casos em Terras Indígenas e monitoramento das Cepas no país. Atuei focado na fase de planejamento e prototipagem dos gráficos, no qual utilizei wireframes para aprovação e construção do código base em Python, usando a biblioteca Plotly para proposição dos gráficos finais. O trabalho foi realizado por equipe multidisciplinar composta por epidemiologistas, analistas de dados, cientistas de dados e desenvolvedores."
   ]
  },
  {
   "cell_type": "markdown",
   "id": "52f66b7a-8179-4634-8585-b27af2f4cdde",
   "metadata": {},
   "source": [
    "##### Link de acesso: http://painelsaude.unb.br"
   ]
  },
  {
   "cell_type": "code",
   "execution_count": 4,
   "id": "67c765a3-34ba-437c-b4f3-f56a0927e31d",
   "metadata": {
    "tags": []
   },
   "outputs": [
    {
     "data": {
      "text/html": [
       "<iframe src=\"http://painelsaude.unb.br\" width=\"100%\" height=\"800\"></iframe>\n"
      ],
      "text/plain": [
       "<IPython.core.display.HTML object>"
      ]
     },
     "metadata": {},
     "output_type": "display_data"
    }
   ],
   "source": [
    "%%html\n",
    "<iframe src=\"http://painelsaude.unb.br\" width=\"100%\" height=\"800\"></iframe>"
   ]
  },
  {
   "cell_type": "markdown",
   "id": "47034408-6a07-4705-96e8-35d40c949e29",
   "metadata": {},
   "source": [
    "### Painel 05\n",
    "##### Objetivo: Painel de análise quali-quantitativa da jornada do cliente no fluxo de atendimento automatizado ao público via chatbot, através deste trabalho pude propor um estudo completo com relatório de diagnóstico e insights sobre o que ocorre na jornada do cliente e quais são os pontos de gargalos, pontos fortes e pontos de melhoria. O Painel é privado, realizado para uso interno da Fundação José Silveira. Por força contratual, não posso divulgar publicamente o seu conteúdo. Apesar da restrição, considero este um dos trabalhos de que mais gostei de fazer, pelo grau de contribuição que pude oferecer à FJS em sua busca contínua por melhorias. "
   ]
  },
  {
   "cell_type": "code",
   "execution_count": 5,
   "id": "0e314982-78f8-4403-857b-a2ed4e18791f",
   "metadata": {
    "tags": []
   },
   "outputs": [
    {
     "data": {
      "text/html": [
       "<iframe src=\"https://app.powerbi.com/view?r=eyJrIjoiZGEyMzg1ODUtODNjNy00MTgxLTg5ZjktNzZhZTU5ZGY0Y2JhIiwidCI6ImE5NzE1ZDU0LTNiY2QtNDc2OC05YjYyLTMzMTMwOGJkNjk2YSJ9\" width=\"100%\" height=\"600\"></iframe>\n"
      ],
      "text/plain": [
       "<IPython.core.display.HTML object>"
      ]
     },
     "metadata": {},
     "output_type": "display_data"
    }
   ],
   "source": [
    "%%html\n",
    "<iframe src=\"https://app.powerbi.com/view?r=eyJrIjoiZGEyMzg1ODUtODNjNy00MTgxLTg5ZjktNzZhZTU5ZGY0Y2JhIiwidCI6ImE5NzE1ZDU0LTNiY2QtNDc2OC05YjYyLTMzMTMwOGJkNjk2YSJ9\" width=\"100%\" height=\"600\"></iframe>"
   ]
  },
  {
   "cell_type": "markdown",
   "id": "e085c7f1-270a-43ef-9e93-8afbc61fbb2c",
   "metadata": {},
   "source": [
    "### Painel 06\n",
    "##### Objetivo: Um painel georreferenciado feito para fins de estudos, utilizando a API do Twitter. Este é um painel que o fiz sem um propósito profissional, apenas para fins de estudo num tema que tenho muito apreço: política."
   ]
  },
  {
   "cell_type": "code",
   "execution_count": 6,
   "id": "6a7751db-2985-498d-819f-aa660bfd7063",
   "metadata": {
    "tags": []
   },
   "outputs": [
    {
     "data": {
      "text/html": [
       "<iframe src=\"https://app.powerbi.com/view?r=eyJrIjoiNDMwZmRkMjUtZWY0Zi00OTU5LWE4NTUtZGU0NGFlNjFhMjYyIiwidCI6ImFmZjU2ODdkLTlkZDUtNDJkMS04ZTMzLThjMTIyODk5NzNkOSJ9\" width=\"100%\" height=\"1700\"></iframe>\n"
      ],
      "text/plain": [
       "<IPython.core.display.HTML object>"
      ]
     },
     "metadata": {},
     "output_type": "display_data"
    }
   ],
   "source": [
    "%%html\n",
    "<iframe src=\"https://app.powerbi.com/view?r=eyJrIjoiNDMwZmRkMjUtZWY0Zi00OTU5LWE4NTUtZGU0NGFlNjFhMjYyIiwidCI6ImFmZjU2ODdkLTlkZDUtNDJkMS04ZTMzLThjMTIyODk5NzNkOSJ9\" width=\"100%\" height=\"1700\"></iframe>"
   ]
  },
  {
   "cell_type": "code",
   "execution_count": null,
   "id": "89de05e4-4758-43c8-9601-21908c41018a",
   "metadata": {},
   "outputs": [],
   "source": []
  }
 ],
 "metadata": {
  "kernelspec": {
   "display_name": "Python 3",
   "language": "python",
   "name": "python3"
  },
  "language_info": {
   "codemirror_mode": {
    "name": "ipython",
    "version": 3
   },
   "file_extension": ".py",
   "mimetype": "text/x-python",
   "name": "python",
   "nbconvert_exporter": "python",
   "pygments_lexer": "ipython3",
   "version": "3.8.10"
  }
 },
 "nbformat": 4,
 "nbformat_minor": 5
}
